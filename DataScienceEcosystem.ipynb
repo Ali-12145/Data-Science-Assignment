{
 "cells": [
  {
   "cell_type": "markdown",
   "id": "36d4344e-62c4-4fa0-b3bf-40b233d39d99",
   "metadata": {},
   "source": [
    "# Data Science Tools and Ecosystem"
   ]
  },
  {
   "cell_type": "markdown",
   "id": "9bf77aa0-3841-46c5-a77e-96f7e38f302b",
   "metadata": {},
   "source": [
    "In this notebook, Data Science Tools and Ecosystem are summarized."
   ]
  },
  {
   "cell_type": "markdown",
   "id": "2cce233f-03b2-4f7b-ad49-fba983b6e5c9",
   "metadata": {},
   "source": [
    "Some of the popular languages that Data Scientists use are:\n",
    "\n",
    "1. Python\n",
    "2. R\n",
    "5. Julia\n",
    "4. Java"
   ]
  },
  {
   "cell_type": "markdown",
   "id": "d17688f4-1b05-4670-994b-1698459afee6",
   "metadata": {},
   "source": [
    "Some of the commonly used libraries used by Data Scientists include:\n",
    "1. PyTorch\n",
    "3. Keras\n",
    "4. Matplotlib"
   ]
  },
  {
   "cell_type": "markdown",
   "id": "7031a6d4-8386-4e38-8da6-1a4512a67e69",
   "metadata": {},
   "source": [
    "|Data Science Tools|\n",
    "|------------------|\n",
    "|Jupyter Notebook|\n",
    "|Watson Studio|\n",
    "|Jupyter Lab Notebook|\n"
   ]
  },
  {
   "cell_type": "markdown",
   "id": "9a26c5d9-44a4-4184-af76-912153236312",
   "metadata": {},
   "source": [
    "### Below are a few examples of evaluating arithmetic expressions in Python.\n",
    "\n",
    "**Objectives**\n",
    "- Data Science IDE\n",
    "- Famous Data Science Languages\n",
    "- Tools for Data Scientists\n",
    "\n",
    "\n",
    "\n"
   ]
  },
  {
   "cell_type": "code",
   "execution_count": 4,
   "id": "8a7255bb-df41-41a8-8455-df5b60deff31",
   "metadata": {},
   "outputs": [
    {
     "name": "stdout",
     "output_type": "stream",
     "text": [
      "Sum of a and b  =  7\n",
      "Product of a and b =  12\n"
     ]
    }
   ],
   "source": [
    "a = 4\n",
    "b = 3 \n",
    "c = a + b\n",
    "prod = a*b\n",
    "print(\"Sum of a and b  = \", c)\n",
    "\n",
    "\n",
    "print(\"Product of a and b = \" , prod)"
   ]
  },
  {
   "cell_type": "code",
   "execution_count": 5,
   "id": "e5700f94-77d5-4ef8-ab15-4ad29e963318",
   "metadata": {
    "tags": []
   },
   "outputs": [
    {
     "name": "stdout",
     "output_type": "stream",
     "text": [
      "200 Minutes to hours 3.3333333333333335\n"
     ]
    }
   ],
   "source": [
    "minutes = 200\n",
    "\n",
    "hours = minutes / 60\n",
    "\n",
    "print(minutes, \"Minutes to hours\", hours)"
   ]
  },
  {
   "cell_type": "markdown",
   "id": "1d03881b-109c-4194-bef2-36aaa7755adf",
   "metadata": {},
   "source": [
    "## Author\n",
    "\n",
    "- Ali Raza Haider Khan\n"
   ]
  }
 ],
 "metadata": {
  "kernelspec": {
   "display_name": "Python",
   "language": "python",
   "name": "conda-env-python-py"
  },
  "language_info": {
   "codemirror_mode": {
    "name": "ipython",
    "version": 3
   },
   "file_extension": ".py",
   "mimetype": "text/x-python",
   "name": "python",
   "nbconvert_exporter": "python",
   "pygments_lexer": "ipython3",
   "version": "3.7.12"
  }
 },
 "nbformat": 4,
 "nbformat_minor": 5
}
